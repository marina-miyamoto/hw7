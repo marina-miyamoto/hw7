{
  "nbformat": 4,
  "nbformat_minor": 0,
  "metadata": {
    "colab": {
      "name": "宿題2.ipynb",
      "version": "0.3.2",
      "provenance": [],
      "collapsed_sections": [
        "AJe27aVsb8vl",
        "534Hm2cCcUmS",
        "5fp7b_Ry-cqh"
      ],
      "include_colab_link": true
    },
    "kernelspec": {
      "name": "python3",
      "display_name": "Python 3"
    },
    "accelerator": "GPU"
  },
  "cells": [
    {
      "cell_type": "markdown",
      "metadata": {
        "id": "view-in-github",
        "colab_type": "text"
      },
      "source": [
        "<a href=\"https://colab.research.google.com/github/marina-miyamoto/hw7/blob/master/%E5%AE%BF%E9%A1%8C2.ipynb\" target=\"_parent\"><img src=\"https://colab.research.google.com/assets/colab-badge.svg\" alt=\"Open In Colab\"/></a>"
      ]
    },
    {
      "cell_type": "markdown",
      "metadata": {
        "id": "AJe27aVsb8vl",
        "colab_type": "text"
      },
      "source": [
        "# Define Game class\n",
        "Mostly copied from https://github.com/step2019/hw6/blob/master/python/main.py"
      ]
    },
    {
      "cell_type": "code",
      "metadata": {
        "id": "e3aic_C9bz5O",
        "colab_type": "code",
        "colab": {}
      },
      "source": [
        "import copy\n",
        "import json\n",
        "\n",
        "NEW_GAME_JSON = \"\"\"\n",
        "{\"board\":{\"Pieces\":[[0,0,0,0,0,0,0,0],[0,0,0,0,0,0,0,0],[0,0,0,0,0,0,0,0],\n",
        "[0,0,0,2,1,0,0,0],[0,0,0,1,2,0,0,0],[0,0,0,0,0,0,0,0],[0,0,0,0,0,0,0,0],\n",
        "[0,0,0,0,0,0,0,0]],\"Next\":1}}\n",
        "\"\"\"\n",
        "\n",
        "# Reads json description of the board and provides simple interface.\n",
        "class Game(object):\n",
        "    # Takes json or a board directly.\n",
        "    def __init__(self, body=None, board=None):\n",
        "        if board:\n",
        "            self._board = board\n",
        "        else:\n",
        "            game = json.loads(body or NEW_GAME_JSON)\n",
        "            self._board = game[\"board\"]\n",
        "            \n",
        "\n",
        "    # Returns piece on the board.\n",
        "    # 0 for no pieces, 1 for player 1, 2 for player 2.\n",
        "    # None for coordinate out of scope.\n",
        "    def Pos(self, x, y):\n",
        "        return Pos(self._board[\"Pieces\"], x, y)\n",
        "\n",
        "    # Returns who plays next.\n",
        "    def Next(self):\n",
        "        return self._board[\"Next\"]\n",
        "\n",
        "    # Returns the array of valid moves for next player.\n",
        "    # Each move is a dict\n",
        "    #   \"Where\": [x,y]\n",
        "    #   \"As\": player number\n",
        "    def ValidMoves(self):\n",
        "        moves = []\n",
        "        for y in range(1, 9):\n",
        "            for x in range(1, 9):\n",
        "                move = {\"Where\": [x, y], \"As\": self.Next()}\n",
        "                if self.NextBoardPosition(move):\n",
        "                    moves.append(move)\n",
        "        return moves\n",
        "\n",
        "    # Helper function of NextBoardPosition.  It looks towards\n",
        "    # (delta_x, delta_y) direction for one of our own pieces and\n",
        "    # flips pieces in between if the move is valid. Returns True\n",
        "    # if pieces are captured in this direction, False otherwise.\n",
        "    def __UpdateBoardDirection(self, new_board, x, y, delta_x, delta_y):\n",
        "        player = self.Next()\n",
        "        opponent = 3 - player\n",
        "        look_x = x + delta_x\n",
        "        look_y = y + delta_y\n",
        "        flip_list = []\n",
        "        while Pos(new_board, look_x, look_y) == opponent:\n",
        "            flip_list.append([look_x, look_y])\n",
        "            look_x += delta_x\n",
        "            look_y += delta_y\n",
        "        if Pos(new_board, look_x, look_y) == player and len(flip_list) > 0:\n",
        "            # there's a continuous line of our opponents\n",
        "            # pieces between our own pieces at\n",
        "            # [look_x,look_y] and the newly placed one at\n",
        "            # [x,y], making it a legal move.\n",
        "            SetPos(new_board, x, y, player)\n",
        "            for flip_move in flip_list:\n",
        "                flip_x = flip_move[0]\n",
        "                flip_y = flip_move[1]\n",
        "                SetPos(new_board, flip_x, flip_y, player)\n",
        "            return True\n",
        "        return False\n",
        "\n",
        "    # Takes a move dict and return the new Game state after that move.\n",
        "    # Returns None if the move itself is invalid.\n",
        "    def NextBoardPosition(self, move):\n",
        "        x = move[\"Where\"][0]\n",
        "        y = move[\"Where\"][1]\n",
        "        if self.Pos(x, y) != 0:\n",
        "            # x,y is already occupied.\n",
        "            return None\n",
        "        new_board = copy.deepcopy(self._board)\n",
        "        pieces = new_board[\"Pieces\"]\n",
        "\n",
        "        if not (self.__UpdateBoardDirection(pieces, x, y, 1, 0)\n",
        "                | self.__UpdateBoardDirection(pieces, x, y, 0, 1)\n",
        "                | self.__UpdateBoardDirection(pieces, x, y, -1, 0)\n",
        "                | self.__UpdateBoardDirection(pieces, x, y, 0, -1)\n",
        "                | self.__UpdateBoardDirection(pieces, x, y, 1, 1)\n",
        "                | self.__UpdateBoardDirection(pieces, x, y, -1, 1)\n",
        "                | self.__UpdateBoardDirection(pieces, x, y, 1, -1)\n",
        "                | self.__UpdateBoardDirection(pieces, x, y, -1, -1)):\n",
        "            # Nothing was captured. Move is invalid.\n",
        "            return None\n",
        "        # Something was captured. Move is valid.\n",
        "        new_board[\"Next\"] = 3 - self.Next()\n",
        "        return Game(board=new_board)\n",
        "\n",
        "\n",
        "    def Pass(self):\n",
        "        if len(self.ValidMoves()) > 0:\n",
        "            return None\n",
        "        new_board = copy.deepcopy(self._board)\n",
        "        new_board[\"Next\"] = 3 - self.Next()\n",
        "        return Game(board=new_board)\n",
        "\n",
        "\n",
        "# Returns piece on the board.\n",
        "# 0 for no pieces, 1 for player 1, 2 for player 2.\n",
        "# None for coordinate out of scope.\n",
        "#\n",
        "# Pos and SetPos takes care of converting coordinate from 1-indexed to\n",
        "# 0-indexed that is actually used in the underlying arrays.\n",
        "def Pos(board, x, y):\n",
        "    if 1 <= x and x <= 8 and 1 <= y and y <= 8:\n",
        "        return board[y-1][x-1]\n",
        "    return None\n",
        "\n",
        "\n",
        "# Set piece on the board at (x,y) coordinate\n",
        "def SetPos(board, x, y, piece):\n",
        "    if x < 1 or 8 < x or y < 1 or 8 < y or piece not in [0,1,2]:\n",
        "        return False\n",
        "    board[y-1][x-1] = piece\n",
        "\n",
        "\n",
        "def PrettyMove(move):\n",
        "    m = move[\"Where\"]\n",
        "    return '%s%d' % (chr(ord('A') + m[0] - 1), m[1])\n"
      ],
      "execution_count": 0,
      "outputs": []
    },
    {
      "cell_type": "markdown",
      "metadata": {
        "id": "72hSkezDcEjO",
        "colab_type": "text"
      },
      "source": [
        "# STEP Reversi - Machine Learning"
      ]
    },
    {
      "cell_type": "markdown",
      "metadata": {
        "id": "SgKMr2Xf0jmn",
        "colab_type": "text"
      },
      "source": [
        "## Train model"
      ]
    },
    {
      "cell_type": "code",
      "metadata": {
        "id": "1JqYAoXQcdQC",
        "colab_type": "code",
        "outputId": "4d651feb-9a84-4a77-8e0f-2354f68570ed",
        "colab": {
          "base_uri": "https://localhost:8080/",
          "height": 442
        }
      },
      "source": [
        "import numpy as np\n",
        "import tensorflow as tf\n",
        "tf.enable_eager_execution()\n",
        "\n",
        "model = tf.keras.Sequential([\n",
        "    tf.keras.layers.Reshape(target_shape=(8, 8, 3, 1), input_shape=(8, 8, 3)),\n",
        "    tf.keras.layers.Conv3D(10, (4,4, 4), padding='same', activation='relu'),\n",
        "    tf.keras.layers.Dropout(0.5),\n",
        "    tf.keras.layers.MaxPooling3D(pool_size=(2,2,2)),\n",
        "    tf.keras.layers.Flatten(),\n",
        "    tf.keras.layers.Dense(128, activation='relu'),\n",
        "    tf.keras.layers.Dropout(0.3),\n",
        "    tf.keras.layers.Dense(1, activation='sigmoid')\n",
        "])\n",
        "model.compile(\n",
        "    loss='binary_crossentropy',\n",
        "    optimizer='adam',\n",
        "    metrics=['accuracy'])\n",
        "model.summary()"
      ],
      "execution_count": 2,
      "outputs": [
        {
          "output_type": "stream",
          "text": [
            "Model: \"sequential\"\n",
            "_________________________________________________________________\n",
            "Layer (type)                 Output Shape              Param #   \n",
            "=================================================================\n",
            "reshape (Reshape)            (None, 8, 8, 3, 1)        0         \n",
            "_________________________________________________________________\n",
            "conv3d (Conv3D)              (None, 8, 8, 3, 10)       650       \n",
            "_________________________________________________________________\n",
            "dropout (Dropout)            (None, 8, 8, 3, 10)       0         \n",
            "_________________________________________________________________\n",
            "max_pooling3d (MaxPooling3D) (None, 4, 4, 1, 10)       0         \n",
            "_________________________________________________________________\n",
            "flatten (Flatten)            (None, 160)               0         \n",
            "_________________________________________________________________\n",
            "dense (Dense)                (None, 128)               20608     \n",
            "_________________________________________________________________\n",
            "dropout_1 (Dropout)          (None, 128)               0         \n",
            "_________________________________________________________________\n",
            "dense_1 (Dense)              (None, 1)                 129       \n",
            "=================================================================\n",
            "Total params: 21,387\n",
            "Trainable params: 21,387\n",
            "Non-trainable params: 0\n",
            "_________________________________________________________________\n"
          ],
          "name": "stdout"
        }
      ]
    },
    {
      "cell_type": "code",
      "metadata": {
        "id": "MzEFdn1Dcb3W",
        "colab_type": "code",
        "outputId": "b0ef84f6-ab11-46dd-b507-b33a57bb1fff",
        "colab": {
          "base_uri": "https://localhost:8080/",
          "height": 54
        }
      },
      "source": [
        "import urllib\n",
        "import sys\n",
        "dataset_url = 'https://storage.googleapis.com/step-reversi-dataset/reps3/games-0-of-8765.json'\n",
        "\n",
        "for line in urllib.request.urlopen(dataset_url):\n",
        "    if line.strip() == \"\":\n",
        "        continue\n",
        "    data = json.loads(line)\n",
        "    sys.stdout.write('.')\n",
        "    history = data['BoardHistory']\n",
        "    boards = [board['Pieces'] for board in history]\n",
        "    black_wins = [1 if data['Winner'] == 1 else 0] * len(history)\n",
        "    one_hot_boards = tf.keras.utils.to_categorical(boards)\n",
        "    # TODO: データセットのダウンロードと訓練は分けたほうが良いです。\n",
        "    model.fit(one_hot_boards, black_wins, epochs=10, verbose = 0) # 長時間やるときはverbose=0 を！！"
      ],
      "execution_count": 4,
      "outputs": [
        {
          "output_type": "stream",
          "text": [
            ".................................................................................................................................................................................................................................................................................................................................................................................................................................................................................................................................................................................................................................................................................................................................................................................................................................................................................................................................................................................................................................................................................................................................................................................................................................................................................."
          ],
          "name": "stdout"
        }
      ]
    },
    {
      "cell_type": "markdown",
      "metadata": {
        "id": "qyaWp8Uw0KaK",
        "colab_type": "text"
      },
      "source": [
        "## Try your model against App Engine AI"
      ]
    },
    {
      "cell_type": "code",
      "metadata": {
        "id": "PwVwsvp4rYgP",
        "colab_type": "code",
        "outputId": "2d1ebae7-2039-41d0-a2dd-c79016baf147",
        "colab": {
          "base_uri": "https://localhost:8080/",
          "height": 212
        }
      },
      "source": [
        "import sys\n",
        "\n",
        "def reverse_black_white(boards):\n",
        "    return [[[(3 - c) % 3 for c in r] for r in b] for b in boards]\n",
        "\n",
        "def move_by_url(g, url):\n",
        "    \"\"\"Apply move by fetching next move from the given url.\"\"\"\n",
        "    data = {'board': g._board}\n",
        "    headers = {'Content-Type': 'application/json'}\n",
        "    req = urllib.request.Request(url, json.dumps(data).encode(), headers)\n",
        "    with urllib.request.urlopen(req) as res:\n",
        "        body = res.read()\n",
        "    if body == b'PASS':\n",
        "        return g.Pass()\n",
        "    elif body[0] == b'['[0]:\n",
        "        (x, y) = json.loads(body)\n",
        "    else:\n",
        "        x = body[0] - b'A'[0] + 1\n",
        "        y = body[1] - b'1'[0] + 1\n",
        "    for move in g.ValidMoves():\n",
        "        if move['Where'][0] == x and move['Where'][1] == y:\n",
        "            return g.NextBoardPosition(move)\n",
        "\n",
        "def move_by_model(g, model):\n",
        "    \"\"\"Apply move by evaluating all valid moves by the given model.\"\"\"\n",
        "    valid_moves = g.ValidMoves()\n",
        "    if len(valid_moves) == 0:\n",
        "        return g.Pass()\n",
        "    boards = []\n",
        "    for valid_move in valid_moves:\n",
        "        next = g.NextBoardPosition(valid_move)\n",
        "        boards.append(next._board['Pieces'])\n",
        "    if g._board['Next'] != 1:\n",
        "        boards = reverse_black_white(boards)\n",
        "    scores = model.predict(tf.keras.utils.to_categorical(boards))\n",
        "    index = np.argmax(scores.reshape([-1]))\n",
        "    return g.NextBoardPosition(valid_moves[index])\n",
        "\n",
        "# Play game!\n",
        "g = Game()\n",
        "for i in range(120):\n",
        "    sys.stdout.write('.')\n",
        "    # Black turn\n",
        "    no_move1 = len(g.ValidMoves()) == 0\n",
        "    g = move_by_model(g, model)\n",
        "    # White turn\n",
        "    no_move2 = len(g.ValidMoves()) == 0\n",
        "    g = move_by_url(g, 'http://l0.krisp-othello.appspot.com')\n",
        "    # If both passed, game is finished.\n",
        "    if no_move1 and no_move2: break\n",
        "print()\n",
        "\n",
        "# Print results\n",
        "counts = [0, 0, 0]\n",
        "for r in g._board['Pieces']:\n",
        "    for i in r: counts[i] += 1\n",
        "print('empty', 'black', 'white')\n",
        "print(counts)\n",
        "g._board['Pieces']"
      ],
      "execution_count": 5,
      "outputs": [
        {
          "output_type": "stream",
          "text": [
            "...............................\n",
            "empty black white\n",
            "[0, 30, 34]\n"
          ],
          "name": "stdout"
        },
        {
          "output_type": "execute_result",
          "data": {
            "text/plain": [
              "[[2, 1, 1, 1, 1, 1, 1, 2],\n",
              " [2, 1, 1, 2, 1, 1, 1, 2],\n",
              " [2, 1, 1, 1, 2, 2, 1, 2],\n",
              " [2, 1, 1, 1, 1, 2, 2, 2],\n",
              " [2, 1, 2, 1, 1, 1, 2, 2],\n",
              " [2, 1, 2, 2, 1, 1, 1, 2],\n",
              " [2, 2, 1, 2, 2, 1, 1, 2],\n",
              " [2, 2, 2, 2, 2, 2, 2, 2]]"
            ]
          },
          "metadata": {
            "tags": []
          },
          "execution_count": 5
        }
      ]
    },
    {
      "cell_type": "markdown",
      "metadata": {
        "id": "534Hm2cCcUmS",
        "colab_type": "text"
      },
      "source": [
        "## Download your model"
      ]
    },
    {
      "cell_type": "code",
      "metadata": {
        "id": "rLSRI1amcPTY",
        "colab_type": "code",
        "colab": {}
      },
      "source": [
        "from google.colab import files\n",
        "model.save('model.h5')\n",
        "files.download('model.h5')"
      ],
      "execution_count": 0,
      "outputs": []
    },
    {
      "cell_type": "markdown",
      "metadata": {
        "id": "5fp7b_Ry-cqh",
        "colab_type": "text"
      },
      "source": [
        "## Load saved model"
      ]
    },
    {
      "cell_type": "code",
      "metadata": {
        "id": "fAWV7PCy9iAA",
        "colab_type": "code",
        "outputId": "c666d346-36f1-40f8-b509-c3d43d75b0aa",
        "colab": {
          "resources": {
            "http://localhost:8080/nbextensions/google.colab/files.js": {
              "data": "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",
              "ok": true,
              "headers": [
                [
                  "content-type",
                  "application/javascript"
                ]
              ],
              "status": 200,
              "status_text": ""
            }
          },
          "base_uri": "https://localhost:8080/",
          "height": 37
        }
      },
      "source": [
        "from google.colab import files\n",
        "uploaded_files = files.upload()\n",
        "for filename in uploaded_files.keys():\n",
        "    model = tf.keras.models.load_model(filename)\n",
        "    model.summary()\n",
        "    break # Ignore except for the first file if multiple files are uploaded."
      ],
      "execution_count": 0,
      "outputs": [
        {
          "output_type": "display_data",
          "data": {
            "text/html": [
              "\n",
              "     <input type=\"file\" id=\"files-6f6a6f75-daef-4bfe-9c52-b20b73b8c29b\" name=\"files[]\" multiple disabled />\n",
              "     <output id=\"result-6f6a6f75-daef-4bfe-9c52-b20b73b8c29b\">\n",
              "      Upload widget is only available when the cell has been executed in the\n",
              "      current browser session. Please rerun this cell to enable.\n",
              "      </output>\n",
              "      <script src=\"/nbextensions/google.colab/files.js\"></script> "
            ],
            "text/plain": [
              "<IPython.core.display.HTML object>"
            ]
          },
          "metadata": {
            "tags": []
          }
        }
      ]
    }
  ]
}