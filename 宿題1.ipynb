{
  "nbformat": 4,
  "nbformat_minor": 0,
  "metadata": {
    "colab": {
      "name": "宿題1",
      "version": "0.3.2",
      "provenance": [],
      "collapsed_sections": [],
      "include_colab_link": true
    },
    "kernelspec": {
      "name": "python3",
      "display_name": "Python 3"
    }
  },
  "cells": [
    {
      "cell_type": "markdown",
      "metadata": {
        "id": "view-in-github",
        "colab_type": "text"
      },
      "source": [
        "<a href=\"https://colab.research.google.com/github/marina-miyamoto/hw7/blob/master/%E5%AE%BF%E9%A1%8C1.ipynb\" target=\"_parent\"><img src=\"https://colab.research.google.com/assets/colab-badge.svg\" alt=\"Open In Colab\"/></a>"
      ]
    },
    {
      "cell_type": "markdown",
      "metadata": {
        "id": "jxQfUGTmB91i",
        "colab_type": "text"
      },
      "source": [
        "#  Load dataset / データセットを読み込む"
      ]
    },
    {
      "cell_type": "code",
      "metadata": {
        "id": "yG5Svs56B5pY",
        "colab_type": "code",
        "outputId": "7fbb0169-e9c6-4789-92ae-88e0c5c4ad13",
        "colab": {
          "base_uri": "https://localhost:8080/",
          "height": 187
        }
      },
      "source": [
        "import tensorflow as tf\n",
        "from tensorflow.keras.datasets import cifar10\n",
        "\n",
        "(x_train_uint8, y_train), (x_test_uint8, y_test) = cifar10.load_data()\n",
        "\n",
        "\n",
        "# Convert image from 0-255 to 0.0-1.0\n",
        "x_train = x_train_uint8.astype('float32') / 255.0\n",
        "x_test = x_test_uint8.astype('float32') / 255.0\n",
        "\n",
        "\n",
        "# Convert labels into one-hot vectors\n",
        "y_train_one_hot = tf.keras.utils.to_categorical(y_train, 10)\n",
        "y_test_one_hot = tf.keras.utils.to_categorical(y_test, 10)\n",
        "for i in range(10):\n",
        "  print(y_train[i], '->', y_train_one_hot[i])\n",
        "\n",
        "# Label names\n",
        "# http://corochann.com/cifar-10-cifar-100-dataset-introduction-1258.html\n",
        "LABELS = [\n",
        "    'airplane', \n",
        "    'automobile',\n",
        "    'bird',\n",
        "    'cat',\n",
        "    'deer',\n",
        "    'dog',\n",
        "    'frog',\n",
        "    'horse',\n",
        "    'ship',\n",
        "    'truck'\n",
        "]"
      ],
      "execution_count": 34,
      "outputs": [
        {
          "output_type": "stream",
          "text": [
            "[6] -> [0. 0. 0. 0. 0. 0. 1. 0. 0. 0.]\n",
            "[9] -> [0. 0. 0. 0. 0. 0. 0. 0. 0. 1.]\n",
            "[9] -> [0. 0. 0. 0. 0. 0. 0. 0. 0. 1.]\n",
            "[4] -> [0. 0. 0. 0. 1. 0. 0. 0. 0. 0.]\n",
            "[1] -> [0. 1. 0. 0. 0. 0. 0. 0. 0. 0.]\n",
            "[1] -> [0. 1. 0. 0. 0. 0. 0. 0. 0. 0.]\n",
            "[2] -> [0. 0. 1. 0. 0. 0. 0. 0. 0. 0.]\n",
            "[7] -> [0. 0. 0. 0. 0. 0. 0. 1. 0. 0.]\n",
            "[8] -> [0. 0. 0. 0. 0. 0. 0. 0. 1. 0.]\n",
            "[3] -> [0. 0. 0. 1. 0. 0. 0. 0. 0. 0.]\n"
          ],
          "name": "stdout"
        }
      ]
    },
    {
      "cell_type": "markdown",
      "metadata": {
        "id": "fhknMgF1CFjO",
        "colab_type": "text"
      },
      "source": [
        "## Preview image / 画像を見てみる"
      ]
    },
    {
      "cell_type": "code",
      "metadata": {
        "id": "hKI145zCCPiP",
        "colab_type": "code",
        "outputId": "7ac9efeb-6b1e-41af-97ed-408e473b68c9",
        "colab": {
          "base_uri": "https://localhost:8080/",
          "height": 286
        }
      },
      "source": [
        "from matplotlib import pyplot as plt\n",
        "index = 0\n",
        "plt.imshow(x_test[index])\n",
        "# Print shape and label\n",
        "print(x_test[index].shape, y_test[index], LABELS[y_test[index][0]])"
      ],
      "execution_count": 21,
      "outputs": [
        {
          "output_type": "stream",
          "text": [
            "(32, 32, 3) [3] cat\n"
          ],
          "name": "stdout"
        },
        {
          "output_type": "display_data",
          "data": {
            "image/png": "[encoded data removed]",
            "text/plain": [
              "<Figure size 432x288 with 1 Axes>"
            ]
          },
          "metadata": {
            "tags": []
          }
        }
      ]
    },
    {
      "cell_type": "markdown",
      "metadata": {
        "id": "Hj_8pS7VDRa9",
        "colab_type": "text"
      },
      "source": [
        "# Train a simple model / 簡単なモデルで訓練"
      ]
    },
    {
      "cell_type": "code",
      "metadata": {
        "id": "MsGWsvUiDQmI",
        "colab_type": "code",
        "outputId": "c9009b1b-bfc3-4c2a-db3b-c80134380fad",
        "colab": {
          "base_uri": "https://localhost:8080/",
          "height": 1000
        }
      },
      "source": [
        "model = tf.keras.Sequential([\n",
        "    tf.keras.layers.Reshape(target_shape=(32, 32, 3), input_shape=(32, 32, 3)),\n",
        "    tf.keras.layers.Conv2D(32, (4, 4), padding='same', activation='relu'),\n",
        "    tf.keras.layers.Dropout(0.5),\n",
        "    tf.keras.layers.MaxPooling2D(pool_size=(4, 4)),\n",
        "    tf.keras.layers.Flatten(),\n",
        "    tf.keras.layers.Dense(128, activation='relu'),\n",
        "    tf.keras.layers.Dropout(0.3),\n",
        "    tf.keras.layers.Dense(10, activation='softmax')\n",
        "])\n",
        "model.compile(loss='categorical_crossentropy',\n",
        "              optimizer='adam',\n",
        "              metrics=['accuracy'])\n",
        "model.summary()\n",
        "model.fit(x_train, y_train_one_hot,\n",
        "          batch_size=128,\n",
        "          epochs=20,\n",
        "          validation_split=0.2)"
      ],
      "execution_count": 32,
      "outputs": [
        {
          "output_type": "stream",
          "text": [
            "Model: \"sequential_24\"\n",
            "_________________________________________________________________\n",
            "Layer (type)                 Output Shape              Param #   \n",
            "=================================================================\n",
            "reshape_24 (Reshape)         (None, 32, 32, 3)         0         \n",
            "_________________________________________________________________\n",
            "conv2d_23 (Conv2D)           (None, 32, 32, 32)        1568      \n",
            "_________________________________________________________________\n",
            "dropout_18 (Dropout)         (None, 32, 32, 32)        0         \n",
            "_________________________________________________________________\n",
            "max_pooling2d_24 (MaxPooling (None, 8, 8, 32)          0         \n",
            "_________________________________________________________________\n",
            "flatten_24 (Flatten)         (None, 2048)              0         \n",
            "_________________________________________________________________\n",
            "dense_48 (Dense)             (None, 128)               262272    \n",
            "_________________________________________________________________\n",
            "dropout_19 (Dropout)         (None, 128)               0         \n",
            "_________________________________________________________________\n",
            "dense_49 (Dense)             (None, 10)                1290      \n",
            "=================================================================\n",
            "Total params: 265,130\n",
            "Trainable params: 265,130\n",
            "Non-trainable params: 0\n",
            "_________________________________________________________________\n",
            "Train on 40000 samples, validate on 10000 samples\n",
            "Epoch 1/20\n",
            "40000/40000 [==============================] - 48s 1ms/sample - loss: 1.7052 - acc: 0.3854 - val_loss: 1.5565 - val_acc: 0.5155\n",
            "Epoch 2/20\n",
            "40000/40000 [==============================] - 48s 1ms/sample - loss: 1.3822 - acc: 0.5048 - val_loss: 1.4267 - val_acc: 0.5633\n",
            "Epoch 3/20\n",
            "40000/40000 [==============================] - 48s 1ms/sample - loss: 1.2760 - acc: 0.5463 - val_loss: 1.3491 - val_acc: 0.5851\n",
            "Epoch 4/20\n",
            "40000/40000 [==============================] - 48s 1ms/sample - loss: 1.2088 - acc: 0.5695 - val_loss: 1.3146 - val_acc: 0.6103\n",
            "Epoch 5/20\n",
            "40000/40000 [==============================] - 47s 1ms/sample - loss: 1.1595 - acc: 0.5885 - val_loss: 1.2684 - val_acc: 0.6253\n",
            "Epoch 6/20\n",
            "40000/40000 [==============================] - 48s 1ms/sample - loss: 1.1130 - acc: 0.6054 - val_loss: 1.2195 - val_acc: 0.6204\n",
            "Epoch 7/20\n",
            "40000/40000 [==============================] - 47s 1ms/sample - loss: 1.0875 - acc: 0.6135 - val_loss: 1.1907 - val_acc: 0.6322\n",
            "Epoch 8/20\n",
            "40000/40000 [==============================] - 48s 1ms/sample - loss: 1.0531 - acc: 0.6262 - val_loss: 1.1480 - val_acc: 0.6451\n",
            "Epoch 9/20\n",
            "40000/40000 [==============================] - 48s 1ms/sample - loss: 1.0297 - acc: 0.6342 - val_loss: 1.1497 - val_acc: 0.6513\n",
            "Epoch 10/20\n",
            "40000/40000 [==============================] - 48s 1ms/sample - loss: 1.0025 - acc: 0.6465 - val_loss: 1.1392 - val_acc: 0.6493\n",
            "Epoch 11/20\n",
            "40000/40000 [==============================] - 49s 1ms/sample - loss: 0.9856 - acc: 0.6505 - val_loss: 1.1125 - val_acc: 0.6518\n",
            "Epoch 12/20\n",
            "40000/40000 [==============================] - 49s 1ms/sample - loss: 0.9658 - acc: 0.6582 - val_loss: 1.1137 - val_acc: 0.6431\n",
            "Epoch 13/20\n",
            "40000/40000 [==============================] - 49s 1ms/sample - loss: 0.9498 - acc: 0.6624 - val_loss: 1.0612 - val_acc: 0.6608\n",
            "Epoch 14/20\n",
            "40000/40000 [==============================] - 48s 1ms/sample - loss: 0.9323 - acc: 0.6666 - val_loss: 1.0820 - val_acc: 0.6663\n",
            "Epoch 15/20\n",
            "40000/40000 [==============================] - 48s 1ms/sample - loss: 0.9178 - acc: 0.6748 - val_loss: 1.0498 - val_acc: 0.6660\n",
            "Epoch 16/20\n",
            "40000/40000 [==============================] - 48s 1ms/sample - loss: 0.9056 - acc: 0.6772 - val_loss: 1.1091 - val_acc: 0.6579\n",
            "Epoch 17/20\n",
            "40000/40000 [==============================] - 48s 1ms/sample - loss: 0.8896 - acc: 0.6830 - val_loss: 1.0947 - val_acc: 0.6543\n",
            "Epoch 18/20\n",
            "40000/40000 [==============================] - 48s 1ms/sample - loss: 0.8832 - acc: 0.6855 - val_loss: 1.0782 - val_acc: 0.6709\n",
            "Epoch 19/20\n",
            "40000/40000 [==============================] - 50s 1ms/sample - loss: 0.8746 - acc: 0.6879 - val_loss: 1.0224 - val_acc: 0.6762\n",
            "Epoch 20/20\n",
            "40000/40000 [==============================] - 48s 1ms/sample - loss: 0.8586 - acc: 0.6936 - val_loss: 1.0228 - val_acc: 0.6708\n"
          ],
          "name": "stdout"
        },
        {
          "output_type": "execute_result",
          "data": {
            "text/plain": [
              "<tensorflow.python.keras.callbacks.History at 0x7fb70e2f05c0>"
            ]
          },
          "metadata": {
            "tags": []
          },
          "execution_count": 32
        }
      ]
    },
    {
      "cell_type": "markdown",
      "metadata": {
        "id": "_Aai3YOgEY3X",
        "colab_type": "text"
      },
      "source": [
        "## Try classification / 試しに分類してみる"
      ]
    },
    {
      "cell_type": "code",
      "metadata": {
        "id": "c7t8gIIbEnXD",
        "colab_type": "code",
        "outputId": "95515e0d-8b10-42c7-f2fe-277f1ab66f3b",
        "colab": {
          "base_uri": "https://localhost:8080/",
          "height": 456
        }
      },
      "source": [
        "index = 0\n",
        "plt.imshow(x_test_uint8[index])\n",
        "print(index, LABELS[y_test[index][0]])\n",
        "predicted = model.predict(x_test[index:index+1])\n",
        "for i in range(len(LABELS)):\n",
        "    print('{:11}: {:10.4f}'.format(LABELS[i], predicted[0][i]))"
      ],
      "execution_count": 33,
      "outputs": [
        {
          "output_type": "stream",
          "text": [
            "0 cat\n",
            "airplane   :     0.0158\n",
            "automobile :     0.0058\n",
            "bird       :     0.0275\n",
            "cat        :     0.4827\n",
            "deer       :     0.0318\n",
            "dog        :     0.2863\n",
            "frog       :     0.0371\n",
            "horse      :     0.0138\n",
            "ship       :     0.0896\n",
            "truck      :     0.0096\n"
          ],
          "name": "stdout"
        },
        {
          "output_type": "display_data",
          "data": {
            "image/png": "[encoded data removed]",
            "text/plain": [
              "<Figure size 432x288 with 1 Axes>"
            ]
          },
          "metadata": {
            "tags": []
          }
        }
      ]
    },
    {
      "cell_type": "markdown",
      "metadata": {
        "id": "yM-_pm7DEDa8",
        "colab_type": "text"
      },
      "source": [
        "##  Evaluate the model with test set / テストセットでモデルを評価"
      ]
    },
    {
      "cell_type": "code",
      "metadata": {
        "id": "kOVC7cQQESDr",
        "colab_type": "code",
        "colab": {}
      },
      "source": [
        "# TODO\n",
        "# See example: https://colab.sandbox.google.com/drive/1XzsOIP9RoJbDudsKagt9FSHMxSTE1GAo#scrollTo=EqYGKCBuAD2R"
      ],
      "execution_count": 0,
      "outputs": []
    }
  ]
}